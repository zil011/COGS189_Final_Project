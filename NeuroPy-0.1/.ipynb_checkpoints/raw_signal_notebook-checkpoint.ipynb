{
 "cells": [
  {
   "cell_type": "code",
   "execution_count": 16,
   "metadata": {},
   "outputs": [
    {
     "name": "stdout",
     "output_type": "stream",
     "text": [
      "Value of highAlpha is 20481\n",
      "Value of attention is 38\n",
      "Value of highAlpha is 33171\n",
      "Value of attention is 40\n",
      "Value of highAlpha is 25861\n",
      "Value of attention is 47\n",
      "Value of highAlpha is 4233\n",
      "Value of attention is 20\n",
      "Value of highAlpha is 10813\n",
      "Value of attention is 1\n",
      "Value of highAlpha is 26931\n",
      "Value of attention is 7\n",
      "Value of highAlpha is 11501\n",
      "Value of attention is 14\n",
      "Value of highAlpha is 43023\n",
      "Value of attention is 17\n",
      "Value of highAlpha is 17876\n",
      "Value of attention is 27\n",
      "Value of highAlpha is 44120\n",
      "Value of attention is 21\n",
      "Value of highAlpha is 7348\n",
      "Value of attention is 27\n",
      "Value of highAlpha is 15341\n",
      "Value of attention is 23\n",
      "Value of highAlpha is 8190\n",
      "Value of attention is 24\n",
      "Value of highAlpha is 13008\n",
      "Value of attention is 35\n",
      "Value of highAlpha is 15590\n",
      "Value of attention is 26\n",
      "Value of highAlpha is 28834\n",
      "Value of attention is 35\n",
      "Value of highAlpha is 3362\n",
      "Value of attention is 44\n",
      "Value of highAlpha is 11781\n",
      "Value of attention is 38\n",
      "Value of highAlpha is 16160\n",
      "Value of attention is 34\n",
      "Value of highAlpha is 18271\n",
      "Value of attention is 38\n",
      "Value of highAlpha is 42377\n",
      "Value of attention is 27\n",
      "Value of highAlpha is 3418\n",
      "Value of attention is 47\n",
      "Value of highAlpha is 21409\n",
      "Value of attention is 47\n",
      "Value of highAlpha is 10788\n",
      "Value of attention is 56\n",
      "Value of highAlpha is 7778\n",
      "Value of attention is 66\n",
      "Value of highAlpha is 7354\n",
      "Value of attention is 54\n",
      "Value of highAlpha is 12050\n",
      "Value of attention is 56\n",
      "Value of highAlpha is 2786\n",
      "Value of attention is 50\n",
      "Value of highAlpha is 50206\n",
      "Value of attention is 38\n",
      "Value of highAlpha is 7879\n",
      "Value of attention is 35\n",
      "Value of highAlpha is 24339\n",
      "Value of attention is 40\n"
     ]
    },
    {
     "name": "stderr",
     "output_type": "stream",
     "text": [
      "Unhandled exception in thread started by <bound method NeuroPy.__packetParser of <NeuroPy.NeuroPy.NeuroPy object at 0x110540fd0>>\n"
     ]
    },
    {
     "ename": "KeyboardInterrupt",
     "evalue": "",
     "output_type": "error",
     "traceback": [
      "\u001b[0;31m---------------------------------------------------------------------------\u001b[0m",
      "\u001b[0;31mKeyboardInterrupt\u001b[0m                         Traceback (most recent call last)",
      "\u001b[0;32m<ipython-input-16-252530510b6c>\u001b[0m in \u001b[0;36m<module>\u001b[0;34m()\u001b[0m\n\u001b[1;32m     40\u001b[0m \u001b[0;32mtry\u001b[0m\u001b[0;34m:\u001b[0m\u001b[0;34m\u001b[0m\u001b[0m\n\u001b[1;32m     41\u001b[0m     \u001b[0;32mwhile\u001b[0m \u001b[0mTrue\u001b[0m\u001b[0;34m:\u001b[0m\u001b[0;34m\u001b[0m\u001b[0m\n\u001b[0;32m---> 42\u001b[0;31m         \u001b[0msleep\u001b[0m\u001b[0;34m(\u001b[0m\u001b[0;36m0.01\u001b[0m\u001b[0;34m)\u001b[0m\u001b[0;34m\u001b[0m\u001b[0m\n\u001b[0m\u001b[1;32m     43\u001b[0m         \u001b[0mtime_in_second\u001b[0m \u001b[0;34m+=\u001b[0m \u001b[0;36m0.05\u001b[0m\u001b[0;34m\u001b[0m\u001b[0m\n\u001b[1;32m     44\u001b[0m         \u001b[0mx\u001b[0m\u001b[0;34m.\u001b[0m\u001b[0mappend\u001b[0m\u001b[0;34m(\u001b[0m\u001b[0mtime_in_second\u001b[0m\u001b[0;34m)\u001b[0m\u001b[0;34m\u001b[0m\u001b[0m\n",
      "\u001b[0;31mKeyboardInterrupt\u001b[0m: "
     ]
    }
   ],
   "source": [
    "from NeuroPy import NeuroPy\n",
    "from time import sleep\n",
    "#print(rawValue, delta, theta, lowAlpha, highAlpha, lowBeta, highBeta, lowGamma, midGamma,)\n",
    "\n",
    "neuropy = NeuroPy('/dev/tty.MindWaveMobile-SerialPo','57000') \n",
    "\n",
    "def attention_callback(attention_value):\n",
    "    \"\"\"this function will be called everytime NeuroPy has a new value for attention\"\"\"\n",
    "    print (\"Value of attention is: \", attention_value)\n",
    "    return None\n",
    "\n",
    "def highAlpha_callback(highAlpha):\n",
    "    \"this function will be called everytime NeuroPy has a new value for highAlpha\"\n",
    "    print \"Value of highAlpha is\",highAlpha\n",
    "\n",
    "    return None\n",
    "\n",
    "def rawData_callback(rawData):\n",
    "    \"this function will be called everytime NeuroPy has a new value for highAlpha\"\n",
    "    print \"Value of rawData is\",rawData\n",
    "\n",
    "    return None\n",
    "\n",
    "def theta_callback(theta):\n",
    "    \"this function will be called everytime NeuroPy has a new value for theta\"\n",
    "    print \"Value of rawData is\",theta\n",
    "\n",
    "    return None\n",
    "\n",
    "# neuropy.setCallBack(\"attention\", attention_callback)\n",
    "# neuropy.setCallBack(\"theta\", theta_callback)\n",
    "neuropy.setCallBack(\"highAlpha\", highAlpha_callback)\n",
    "\n",
    "\n",
    "neuropy.start()\n",
    "y = []\n",
    "x = []\n",
    "time_in_second = 0\n",
    "y_val = 0\n",
    "try:\n",
    "    while True:\n",
    "        sleep(0.01)\n",
    "        time_in_second += 0.05\n",
    "        x.append(time_in_second)\n",
    "        y_val = neuropy.highAlpha\n",
    "        y.append(y_val)\n",
    "finally:\n",
    "    neuropy.stop()"
   ]
  },
  {
   "cell_type": "code",
   "execution_count": 17,
   "metadata": {},
   "outputs": [
    {
     "data": {
      "image/png": "[encoded data removed]",
      "text/plain": [
       "<Figure size 432x288 with 1 Axes>"
      ]
     },
     "metadata": {
      "needs_background": "light"
     },
     "output_type": "display_data"
    }
   ],
   "source": [
    "import matplotlib.pyplot as plt \n",
    "plt.plot(x, y) \n",
    "plt.show() \n"
   ]
  },
  {
   "cell_type": "code",
   "execution_count": 21,
   "metadata": {},
   "outputs": [
    {
     "data": {
      "text/plain": [
       "2450"
      ]
     },
     "execution_count": 21,
     "metadata": {},
     "output_type": "execute_result"
    }
   ],
   "source": [
    "len(y)"
   ]
  }
 ],
 "metadata": {
  "kernelspec": {
   "display_name": "Python 2",
   "language": "python",
   "name": "python2"
  }
 },
 "nbformat": 4,
 "nbformat_minor": 2
}
