{
 "cells": [
  {
   "cell_type": "code",
   "execution_count": 1,
   "metadata": {},
   "outputs": [
    {
     "name": "stdout",
     "output_type": "stream",
     "text": [
      "pygame 1.9.6\n",
      "Hello from the pygame community. https://www.pygame.org/contribute.html\n"
     ]
    }
   ],
   "source": [
    "# Imports\n",
    "import mindwave\n",
    "import time\n",
    "import pandas as pd\n",
    "import numpy as np\n",
    "import random \n",
    "import pygame"
   ]
  },
  {
   "cell_type": "code",
   "execution_count": 2,
   "metadata": {},
   "outputs": [
    {
     "data": {
      "text/plain": [
       "['/bin/bash: ls/dev: No such file or directory']"
      ]
     },
     "execution_count": 2,
     "metadata": {},
     "output_type": "execute_result"
    }
   ],
   "source": [
    "ls=!ls/dev\n",
    "ls"
   ]
  },
  {
   "cell_type": "markdown",
   "metadata": {},
   "source": [
    "#### Loading Data"
   ]
  },
  {
   "cell_type": "code",
   "execution_count": 3,
   "metadata": {},
   "outputs": [],
   "source": [
    "# Music Options\n",
    "df_music = pd.read_csv('Data/music_categories.csv')"
   ]
  },
  {
   "cell_type": "code",
   "execution_count": 4,
   "metadata": {},
   "outputs": [],
   "source": [
    "# Subject 8's Data\n",
    "# Video 1: confusion = 0\n",
    "# Video 5: confusion = 1\n",
    "df_1 = pd.read_csv('Data/Video1.csv')\n",
    "df_5 = pd.read_csv('Data/Video5.csv')"
   ]
  },
  {
   "cell_type": "markdown",
   "metadata": {},
   "source": [
    "### MOST UPDATED "
   ]
  },
  {
   "cell_type": "markdown",
   "metadata": {},
   "source": [
    "#### Modules Needed for Playing the Music"
   ]
  },
  {
   "cell_type": "code",
   "execution_count": 5,
   "metadata": {},
   "outputs": [
    {
     "data": {
      "text/plain": [
       "(6, 0)"
      ]
     },
     "execution_count": 5,
     "metadata": {},
     "output_type": "execute_result"
    }
   ],
   "source": [
    "pygame.init()"
   ]
  },
  {
   "cell_type": "code",
   "execution_count": 6,
   "metadata": {},
   "outputs": [],
   "source": [
    "def calcAvg(time):\n",
    "    attention_total = 0\n",
    "    meditation_total = 0\n",
    "    time_elapsed = 0\n",
    "    while time_elapsed <= time:\n",
    "        attention_total += headset.attention\n",
    "        meditation_total += headset.meditation\n",
    "        time_elapsed += 1\n",
    "    attention_avg = attention_total/time_elapsed\n",
    "    meditation_avg = meditation_total/time_elapsed\n",
    "    return attention_avg, meditation_avg"
   ]
  },
  {
   "cell_type": "code",
   "execution_count": 7,
   "metadata": {},
   "outputs": [
    {
     "data": {
      "text/plain": [
       "Index([u'Song_Name', u'Song_Length', u'Category'], dtype='object')"
      ]
     },
     "execution_count": 7,
     "metadata": {},
     "output_type": "execute_result"
    }
   ],
   "source": [
    "df_music.columns"
   ]
  },
  {
   "cell_type": "code",
   "execution_count": 8,
   "metadata": {},
   "outputs": [],
   "source": [
    "def selectSong(df_music, attention_avg, meditation_avg):\n",
    "    if (attention_avg >= 50 and meditation_avg > 50):\n",
    "        song_choice = 1 #High A, High M song \n",
    "    elif (attention_avg > 50 and meditation_avg <= 50):\n",
    "        song_choice = 2 #High A, Low M song \n",
    "    elif (attention_avg < 50 and meditation_avg >= 50):\n",
    "        song_choice = 3 #Low A, High M song \n",
    "    elif (attention_avg <= 50 and meditation_avg < 50):\n",
    "        song_choice = 4 #Low A, Low M song \n",
    "    else:\n",
    "        song_choice = 0\n",
    "\n",
    "    category_df = df_music.loc[df_music['Category']==song_choice]\n",
    "    indexes = category_df.index.array\n",
    "    randIdx = random.choice(indexes) \n",
    "    randSong = category_df.loc[randIdx]['Song_Name']\n",
    "    songLength = category_df.loc[randIdx]['Song_Length']\n",
    "    return randSong, songLength"
   ]
  },
  {
   "cell_type": "code",
   "execution_count": 9,
   "metadata": {},
   "outputs": [
    {
     "name": "stdout",
     "output_type": "stream",
     "text": [
      "Connected\n",
      "Still Working\n",
      "Connected\n",
      "Still Working\n",
      "Connected\n",
      "Still Working\n",
      "Connected\n",
      "Still Working\n",
      "Connected\n",
      "Still Working\n",
      "Connected\n",
      "Actually Working\n",
      "(34, 24)\n",
      "('TheImperialMarch.mp3', 186)\n",
      "(41, 48)\n",
      "('arabesque.mp3', 250)\n"
     ]
    },
    {
     "ename": "KeyboardInterrupt",
     "evalue": "",
     "output_type": "error",
     "traceback": [
      "\u001b[0;31m---------------------------------------------------------------------------\u001b[0m",
      "\u001b[0;31mKeyboardInterrupt\u001b[0m                         Traceback (most recent call last)",
      "\u001b[0;32m<ipython-input-9-8f37b41cf5d5>\u001b[0m in \u001b[0;36m<module>\u001b[0;34m()\u001b[0m\n\u001b[1;32m     27\u001b[0m                 \u001b[0mt_start\u001b[0m \u001b[0;34m=\u001b[0m \u001b[0mtime\u001b[0m\u001b[0;34m.\u001b[0m\u001b[0mtime\u001b[0m\u001b[0;34m(\u001b[0m\u001b[0;34m)\u001b[0m\u001b[0;34m\u001b[0m\u001b[0m\n\u001b[1;32m     28\u001b[0m                 \u001b[0;32mwhile\u001b[0m \u001b[0;34m(\u001b[0m\u001b[0mtime\u001b[0m\u001b[0;34m.\u001b[0m\u001b[0mtime\u001b[0m\u001b[0;34m(\u001b[0m\u001b[0;34m)\u001b[0m \u001b[0;34m-\u001b[0m \u001b[0mt_start\u001b[0m \u001b[0;34m<\u001b[0m \u001b[0msongLength\u001b[0m \u001b[0;34m-\u001b[0m \u001b[0;36m10\u001b[0m\u001b[0;34m)\u001b[0m\u001b[0;34m:\u001b[0m\u001b[0;34m\u001b[0m\u001b[0m\n\u001b[0;32m---> 29\u001b[0;31m                     \u001b[0mattention_avg\u001b[0m\u001b[0;34m,\u001b[0m \u001b[0mmeditation_avg\u001b[0m \u001b[0;34m=\u001b[0m \u001b[0mcalcAvg\u001b[0m\u001b[0;34m(\u001b[0m\u001b[0msongLength\u001b[0m \u001b[0;34m-\u001b[0m \u001b[0;36m10\u001b[0m\u001b[0;34m)\u001b[0m\u001b[0;34m\u001b[0m\u001b[0m\n\u001b[0m\u001b[1;32m     30\u001b[0m                 \u001b[0;32mprint\u001b[0m\u001b[0;34m(\u001b[0m\u001b[0mattention_avg\u001b[0m\u001b[0;34m,\u001b[0m \u001b[0mmeditation_avg\u001b[0m\u001b[0;34m)\u001b[0m\u001b[0;34m\u001b[0m\u001b[0m\n\u001b[1;32m     31\u001b[0m                 \u001b[0mnextSong\u001b[0m\u001b[0;34m,\u001b[0m \u001b[0msongLength\u001b[0m \u001b[0;34m=\u001b[0m \u001b[0mselectSong\u001b[0m\u001b[0;34m(\u001b[0m\u001b[0mdf_music\u001b[0m\u001b[0;34m,\u001b[0m \u001b[0mattention_avg\u001b[0m\u001b[0;34m,\u001b[0m \u001b[0mmeditation_avg\u001b[0m\u001b[0;34m)\u001b[0m\u001b[0;34m\u001b[0m\u001b[0m\n",
      "\u001b[0;32m<ipython-input-6-f589df6b7267>\u001b[0m in \u001b[0;36mcalcAvg\u001b[0;34m(time)\u001b[0m\n\u001b[1;32m      6\u001b[0m         \u001b[0mattention_total\u001b[0m \u001b[0;34m+=\u001b[0m \u001b[0mheadset\u001b[0m\u001b[0;34m.\u001b[0m\u001b[0mattention\u001b[0m\u001b[0;34m\u001b[0m\u001b[0m\n\u001b[1;32m      7\u001b[0m         \u001b[0mmeditation_total\u001b[0m \u001b[0;34m+=\u001b[0m \u001b[0mheadset\u001b[0m\u001b[0;34m.\u001b[0m\u001b[0mmeditation\u001b[0m\u001b[0;34m\u001b[0m\u001b[0m\n\u001b[0;32m----> 8\u001b[0;31m         \u001b[0mtime_elapsed\u001b[0m \u001b[0;34m+=\u001b[0m \u001b[0;36m1\u001b[0m\u001b[0;34m\u001b[0m\u001b[0m\n\u001b[0m\u001b[1;32m      9\u001b[0m     \u001b[0mattention_avg\u001b[0m \u001b[0;34m=\u001b[0m \u001b[0mattention_total\u001b[0m\u001b[0;34m/\u001b[0m\u001b[0mtime_elapsed\u001b[0m\u001b[0;34m\u001b[0m\u001b[0m\n\u001b[1;32m     10\u001b[0m     \u001b[0mmeditation_avg\u001b[0m \u001b[0;34m=\u001b[0m \u001b[0mmeditation_total\u001b[0m\u001b[0;34m/\u001b[0m\u001b[0mtime_elapsed\u001b[0m\u001b[0;34m\u001b[0m\u001b[0m\n",
      "\u001b[0;31mKeyboardInterrupt\u001b[0m: "
     ]
    }
   ],
   "source": [
    "headset = mindwave.Headset('/dev/tty.MindWaveMobile-SerialPo','MMPPHB2013')\n",
    "time.sleep(2)\n",
    "headset.autoconnect()\n",
    "\n",
    "while headset.status != ('connected'):\n",
    "    time.sleep(1)\n",
    "    if headset.status == None:\n",
    "        print('Connected')\n",
    "        if(headset.attention != 0 or headset.meditation != 0):\n",
    "            print('Actually Working')\n",
    "            #t_start = time.time()\n",
    "            time_limit = 30\n",
    "            t_end = time.time() + time_limit\n",
    "            # Choosing the First Song\n",
    "            while (time.time() < t_end):\n",
    "                attention_avg, meditation_avg = calcAvg(time_limit)\n",
    "            print(attention_avg, meditation_avg)\n",
    "            firstSong, songLength = selectSong(df_music, attention_avg, meditation_avg)\n",
    "            print(firstSong, songLength)\n",
    "            # Playing the first song \n",
    "            firstSong = 'Data/' +  str(firstSong)\n",
    "            pygame.mixer.music.load(firstSong)\n",
    "            pygame.mixer.music.play()\n",
    "            \n",
    "            # Choosing Subsequent Songs\n",
    "            for i in range(0, 3):\n",
    "                t_start = time.time()\n",
    "                while (time.time() - t_start < songLength - 10):\n",
    "                    attention_avg, meditation_avg = calcAvg(songLength - 10)\n",
    "                print(attention_avg, meditation_avg)\n",
    "                nextSong, songLength = selectSong(df_music, attention_avg, meditation_avg)\n",
    "                print(nextSong, songLength)\n",
    "                nextSong = 'Data/' +  str(nextSong)\n",
    "                pygame.mixer.music.queue(nextSong)\n",
    "\n",
    "        else:\n",
    "            print('Still Working')\n",
    "        "
   ]
  },
  {
   "cell_type": "code",
   "execution_count": 10,
   "metadata": {},
   "outputs": [],
   "source": [
    "pygame.mixer.music.pause()"
   ]
  },
  {
   "cell_type": "code",
   "execution_count": 11,
   "metadata": {},
   "outputs": [
    {
     "name": "stdout",
     "output_type": "stream",
     "text": [
      "0\n",
      "1\n",
      "2\n"
     ]
    }
   ],
   "source": [
    "for i in range(0,3):\n",
    "    print(i)"
   ]
  },
  {
   "cell_type": "markdown",
   "metadata": {},
   "source": [
    "#### Choosing the Next Song"
   ]
  },
  {
   "cell_type": "code",
   "execution_count": null,
   "metadata": {},
   "outputs": [],
   "source": [
    "fs = 1\n",
    "time_elapsed = 0\n",
    "attention_avg = 0\n",
    "attention_total = 0\n",
    "meditation_total = 0\n",
    "\n",
    "song_length = 20\n",
    "\n",
    "for i, j in df_1.iterrows():\n",
    "    #check for the first NeuroSky recording that != (0,0)\n",
    "    time_elapsed += 1 #in seconds\n",
    "    \n",
    "    attention_total += df_1['attention'][i]\n",
    "    meditation_total += df_1['meditation'][i]\n",
    "    \n",
    "    attention_avg = attention_total/time_elapsed\n",
    "    meditation_avg = meditation_total/time_elapsed\n",
    "    \n",
    "    if time_elapsed >= song_length - 10:\n",
    "        if (attention_avg > 50 and meditation_avg > 50):\n",
    "            song_choice = 1 #High A, High M song \n",
    "        elif (attention_avg > 50 and meditation_avg <= 50):\n",
    "            song_choice = 2 #High A, Low M song \n",
    "        elif (attention_avg <= 50 and meditation_avg > 50):\n",
    "            song_choice = 3 #Low A, High M song \n",
    "        elif (attention_avg <= 50 and meditation_avg <= 50):\n",
    "            song_choice = 4 #Low A, Low M song \n",
    "        else:\n",
    "            print('Error')\n",
    "        \n",
    "        category_df = df_music.loc[df_music['Category']==song_choice]\n",
    "        randIdx = random.randint(0,len(category_df))\n",
    "        randSong = category_df.loc[randIdx]['Song_Name ']\n",
    "        \n",
    "        pygame.mixer.music.queue(randSong)\n",
    "        \n",
    "        #pygame.mixer.music.queue(song_choice)\n",
    "            \n",
    "# don't want music to stop playing\n",
    "# if playtime is ___ sec before the song end time:\n",
    "# make a classification for next song (pygame.mixer.music.queue())"
   ]
  },
  {
   "cell_type": "code",
   "execution_count": null,
   "metadata": {},
   "outputs": [],
   "source": [
    "attention_avg, meditation_avg "
   ]
  },
  {
   "cell_type": "markdown",
   "metadata": {},
   "source": [
    "#### (OLD) With the Headset"
   ]
  },
  {
   "cell_type": "code",
   "execution_count": null,
   "metadata": {},
   "outputs": [],
   "source": [
    "while headset.status != ('connected'):\n",
    "    time.sleep(1)\n",
    "    attention_total += headset.attention\n",
    "    meditation_total += headset.meditation\n",
    "    time_elapsed += 1\n",
    "    attention_avg = attention_total/time_elapsed\n",
    "\n",
    "    if headset.status == None:\n",
    "        # When headset is live\n",
    "    print (\"Attention: %s, Meditation: %s\" )%(headset.attention, headset.meditation)\n",
    "    print(attention_avg)"
   ]
  }
 ],
 "metadata": {
  "kernelspec": {
   "display_name": "Python 2",
   "language": "python",
   "name": "python2"
  }
 },
 "nbformat": 4,
 "nbformat_minor": 2
}
